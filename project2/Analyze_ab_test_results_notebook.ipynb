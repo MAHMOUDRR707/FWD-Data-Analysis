{
 "cells": [
  {
   "cell_type": "markdown",
   "metadata": {},
   "source": [
    "## Analyze A/B Test Results\n",
    "\n",
    "You may either submit your notebook through the workspace here, or you may work from your local machine and submit through the next page.  Either way assure that your code passes the project [RUBRIC](https://review.udacity.com/#!/projects/37e27304-ad47-4eb0-a1ab-8c12f60e43d0/rubric).  **Please save regularly.**\n",
    "\n",
    "This project will assure you have mastered the subjects covered in the statistics lessons.  The hope is to have this project be as comprehensive of these topics as possible.  Good luck!\n",
    "\n",
    "## Table of Contents\n",
    "- [Introduction](#intro)\n",
    "- [Part I - Probability](#probability)\n",
    "- [Part II - A/B Test](#ab_test)\n",
    "- [Part III - Regression](#regression)\n",
    "\n",
    "\n",
    "<a id='intro'></a>\n",
    "### Introduction\n",
    "\n",
    "A/B tests are very commonly performed by data analysts and data scientists.  It is important that you get some practice working with the difficulties of these \n",
    "\n",
    "For this project, you will be working to understand the results of an A/B test run by an e-commerce website.  Your goal is to work through this notebook to help the company understand if they should implement the new page, keep the old page, or perhaps run the experiment longer to make their decision.\n",
    "\n",
    "**As you work through this notebook, follow along in the classroom and answer the corresponding quiz questions associated with each question.** The labels for each classroom concept are provided for each question.  This will assure you are on the right track as you work through the project, and you can feel more confident in your final submission meeting the criteria.  As a final check, assure you meet all the criteria on the [RUBRIC](https://review.udacity.com/#!/projects/37e27304-ad47-4eb0-a1ab-8c12f60e43d0/rubric).\n",
    "\n",
    "<a id='probability'></a>\n",
    "#### Part I - Probability\n",
    "\n",
    "To get started, let's import our libraries."
   ]
  },
  {
   "cell_type": "code",
   "execution_count": 1,
   "metadata": {},
   "outputs": [],
   "source": [
    "import pandas as pd\n",
    "import numpy as np\n",
    "import random\n",
    "import matplotlib.pyplot as plt\n",
    "%matplotlib inline\n",
    "#We are setting the seed to assure you get the same answers on quizzes as we set up\n",
    "random.seed(42)"
   ]
  },
  {
   "cell_type": "markdown",
   "metadata": {},
   "source": [
    "`1.` Now, read in the `ab_data.csv` data. Store it in `df`.  **Use your dataframe to answer the questions in Quiz 1 of the classroom.**\n",
    "\n",
    "a. Read in the dataset and take a look at the top few rows here:"
   ]
  },
  {
   "cell_type": "code",
   "execution_count": 2,
   "metadata": {},
   "outputs": [
    {
     "data": {
      "text/html": [
       "<div>\n",
       "<style scoped>\n",
       "    .dataframe tbody tr th:only-of-type {\n",
       "        vertical-align: middle;\n",
       "    }\n",
       "\n",
       "    .dataframe tbody tr th {\n",
       "        vertical-align: top;\n",
       "    }\n",
       "\n",
       "    .dataframe thead th {\n",
       "        text-align: right;\n",
       "    }\n",
       "</style>\n",
       "<table border=\"1\" class=\"dataframe\">\n",
       "  <thead>\n",
       "    <tr style=\"text-align: right;\">\n",
       "      <th></th>\n",
       "      <th>user_id</th>\n",
       "      <th>timestamp</th>\n",
       "      <th>group</th>\n",
       "      <th>landing_page</th>\n",
       "      <th>converted</th>\n",
       "    </tr>\n",
       "  </thead>\n",
       "  <tbody>\n",
       "    <tr>\n",
       "      <th>0</th>\n",
       "      <td>851104</td>\n",
       "      <td>2017-01-21 22:11:48.556739</td>\n",
       "      <td>control</td>\n",
       "      <td>old_page</td>\n",
       "      <td>0</td>\n",
       "    </tr>\n",
       "    <tr>\n",
       "      <th>1</th>\n",
       "      <td>804228</td>\n",
       "      <td>2017-01-12 08:01:45.159739</td>\n",
       "      <td>control</td>\n",
       "      <td>old_page</td>\n",
       "      <td>0</td>\n",
       "    </tr>\n",
       "    <tr>\n",
       "      <th>2</th>\n",
       "      <td>661590</td>\n",
       "      <td>2017-01-11 16:55:06.154213</td>\n",
       "      <td>treatment</td>\n",
       "      <td>new_page</td>\n",
       "      <td>0</td>\n",
       "    </tr>\n",
       "    <tr>\n",
       "      <th>3</th>\n",
       "      <td>853541</td>\n",
       "      <td>2017-01-08 18:28:03.143765</td>\n",
       "      <td>treatment</td>\n",
       "      <td>new_page</td>\n",
       "      <td>0</td>\n",
       "    </tr>\n",
       "    <tr>\n",
       "      <th>4</th>\n",
       "      <td>864975</td>\n",
       "      <td>2017-01-21 01:52:26.210827</td>\n",
       "      <td>control</td>\n",
       "      <td>old_page</td>\n",
       "      <td>1</td>\n",
       "    </tr>\n",
       "  </tbody>\n",
       "</table>\n",
       "</div>"
      ],
      "text/plain": [
       "   user_id                   timestamp      group landing_page  converted\n",
       "0   851104  2017-01-21 22:11:48.556739    control     old_page          0\n",
       "1   804228  2017-01-12 08:01:45.159739    control     old_page          0\n",
       "2   661590  2017-01-11 16:55:06.154213  treatment     new_page          0\n",
       "3   853541  2017-01-08 18:28:03.143765  treatment     new_page          0\n",
       "4   864975  2017-01-21 01:52:26.210827    control     old_page          1"
      ]
     },
     "execution_count": 2,
     "metadata": {},
     "output_type": "execute_result"
    }
   ],
   "source": [
    "#import our data at df \n",
    "df =  pd.read_csv(\"ab_data.csv\")\n",
    "#appear the head of our dataset\n",
    "df.head()"
   ]
  },
  {
   "cell_type": "markdown",
   "metadata": {},
   "source": [
    "b. Use the cell below to find the number of rows in the dataset."
   ]
  },
  {
   "cell_type": "code",
   "execution_count": 3,
   "metadata": {},
   "outputs": [
    {
     "name": "stdout",
     "output_type": "stream",
     "text": [
      "294478\n",
      "user_id         294479\n",
      "timestamp       294479\n",
      "group           294479\n",
      "landing_page    294479\n",
      "converted       294479\n",
      "dtype: int64\n"
     ]
    }
   ],
   "source": [
    "#N. of rows of our dataset\n",
    "#first way \n",
    "print(len(df))\n",
    "total =  len(df)\n",
    "#second way \n",
    "print(df.count() +1 )"
   ]
  },
  {
   "cell_type": "markdown",
   "metadata": {},
   "source": [
    "c. The number of unique users in the dataset."
   ]
  },
  {
   "cell_type": "code",
   "execution_count": 4,
   "metadata": {},
   "outputs": [
    {
     "data": {
      "text/plain": [
       "290584"
      ]
     },
     "execution_count": 4,
     "metadata": {},
     "output_type": "execute_result"
    }
   ],
   "source": [
    "#N.unique user id\n",
    "df[\"user_id\"].nunique()"
   ]
  },
  {
   "cell_type": "markdown",
   "metadata": {
    "collapsed": true
   },
   "source": [
    "d. The proportion of users converted."
   ]
  },
  {
   "cell_type": "code",
   "execution_count": 5,
   "metadata": {},
   "outputs": [
    {
     "name": "stdout",
     "output_type": "stream",
     "text": [
      "35173.0\n",
      "0.1194418598333322\n",
      "% 11.94418598333322\n"
     ]
    }
   ],
   "source": [
    "#user converted of unique user_id\n",
    "converted1=float(df.query('converted == 1')['user_id'].nunique())\n",
    "print(converted1)\n",
    "#proportion user converted\n",
    "b_1 = (converted1/total)\n",
    "print(b_1)\n",
    "#percent \n",
    "print(\"%\",b_1*100 )"
   ]
  },
  {
   "cell_type": "markdown",
   "metadata": {
    "collapsed": true
   },
   "source": [
    "e. The number of times the `new_page` and `treatment` don't match."
   ]
  },
  {
   "cell_type": "code",
   "execution_count": 6,
   "metadata": {},
   "outputs": [
    {
     "data": {
      "text/plain": [
       "3893"
      ]
     },
     "execution_count": 6,
     "metadata": {},
     "output_type": "execute_result"
    }
   ],
   "source": [
    "#N.of new page and treatmetn which not match\n",
    "df.query('(group == \"treatment\" and landing_page != \"new_page\") or (group != \"treatment\" and landing_page == \"new_page\")')['user_id'].count()"
   ]
  },
  {
   "cell_type": "markdown",
   "metadata": {},
   "source": [
    "f. Do any of the rows have missing values?"
   ]
  },
  {
   "cell_type": "code",
   "execution_count": 7,
   "metadata": {},
   "outputs": [
    {
     "name": "stdout",
     "output_type": "stream",
     "text": [
      "False\n"
     ]
    }
   ],
   "source": [
    "if df.isnull().values.any():\n",
    "    print(\"True\")\n",
    "else: \n",
    "    print(\"False\")"
   ]
  },
  {
   "cell_type": "markdown",
   "metadata": {},
   "source": [
    "`2.` For the rows where **treatment** does not match with **new_page** or **control** does not match with **old_page**, we cannot be sure if this row truly received the new or old page.  Use **Quiz 2** in the classroom to figure out how we should handle these rows.  \n",
    "\n",
    "a. Now use the answer to the quiz to create a new dataset that meets the specifications from the quiz.  Store your new dataframe in **df2**."
   ]
  },
  {
   "cell_type": "code",
   "execution_count": 8,
   "metadata": {},
   "outputs": [
    {
     "name": "stdout",
     "output_type": "stream",
     "text": [
      "        user_id                   timestamp      group landing_page  converted\n",
      "0        851104  2017-01-21 22:11:48.556739    control     old_page          0\n",
      "1        804228  2017-01-12 08:01:45.159739    control     old_page          0\n",
      "2        661590  2017-01-11 16:55:06.154213  treatment     new_page          0\n",
      "3        853541  2017-01-08 18:28:03.143765  treatment     new_page          0\n",
      "4        864975  2017-01-21 01:52:26.210827    control     old_page          1\n",
      "5        936923  2017-01-10 15:20:49.083499    control     old_page          0\n",
      "6        679687  2017-01-19 03:26:46.940749  treatment     new_page          1\n",
      "7        719014  2017-01-17 01:48:29.539573    control     old_page          0\n",
      "8        817355  2017-01-04 17:58:08.979471  treatment     new_page          1\n",
      "9        839785  2017-01-15 18:11:06.610965  treatment     new_page          1\n",
      "10       929503  2017-01-18 05:37:11.527370  treatment     new_page          0\n",
      "11       834487  2017-01-21 22:37:47.774891  treatment     new_page          0\n",
      "12       803683  2017-01-09 06:05:16.222706  treatment     new_page          0\n",
      "13       944475  2017-01-22 01:31:09.573836  treatment     new_page          0\n",
      "14       718956  2017-01-22 11:45:11.327945  treatment     new_page          0\n",
      "15       644214  2017-01-22 02:05:21.719434    control     old_page          1\n",
      "16       847721  2017-01-17 14:01:00.090575    control     old_page          0\n",
      "17       888545  2017-01-08 06:37:26.332945  treatment     new_page          1\n",
      "18       650559  2017-01-24 11:55:51.084801    control     old_page          0\n",
      "19       935734  2017-01-17 20:33:37.428378    control     old_page          0\n",
      "20       740805  2017-01-12 18:59:45.453277  treatment     new_page          0\n",
      "21       759875  2017-01-09 16:11:58.806110  treatment     new_page          0\n",
      "23       793849  2017-01-23 22:36:10.742811  treatment     new_page          0\n",
      "24       905617  2017-01-20 14:12:19.345499  treatment     new_page          0\n",
      "25       746742  2017-01-23 11:38:29.592148    control     old_page          0\n",
      "26       892356  2017-01-05 09:35:14.904865  treatment     new_page          1\n",
      "27       773302  2017-01-12 08:29:49.810594  treatment     new_page          0\n",
      "28       913579  2017-01-24 09:11:39.164256    control     old_page          1\n",
      "29       736159  2017-01-06 01:50:21.318242  treatment     new_page          0\n",
      "30       690284  2017-01-13 17:22:57.182769    control     old_page          0\n",
      "...         ...                         ...        ...          ...        ...\n",
      "294448   776137  2017-01-12 05:53:12.386730  treatment     new_page          0\n",
      "294449   883344  2017-01-22 23:15:58.645325  treatment     new_page          0\n",
      "294450   825594  2017-01-06 12:37:08.897784  treatment     new_page          0\n",
      "294451   875688  2017-01-14 07:19:49.042869    control     old_page          0\n",
      "294452   927527  2017-01-12 10:52:11.084740    control     old_page          0\n",
      "294453   789177  2017-01-17 18:17:56.215378    control     old_page          0\n",
      "294454   937338  2017-01-19 03:23:22.236666  treatment     new_page          0\n",
      "294455   733101  2017-01-23 12:52:58.711914  treatment     new_page          0\n",
      "294456   679096  2017-01-02 16:43:49.237940  treatment     new_page          0\n",
      "294457   691699  2017-01-09 23:42:35.963486  treatment     new_page          0\n",
      "294458   807595  2017-01-22 10:43:09.285426  treatment     new_page          0\n",
      "294459   924816  2017-01-20 10:59:03.481635    control     old_page          0\n",
      "294460   846225  2017-01-16 15:24:46.705903  treatment     new_page          0\n",
      "294461   740310  2017-01-10 17:22:19.762612    control     old_page          0\n",
      "294462   677163  2017-01-03 19:41:51.902148  treatment     new_page          0\n",
      "294463   832080  2017-01-19 13:18:27.352570    control     old_page          0\n",
      "294464   834362  2017-01-17 01:51:56.106436    control     old_page          0\n",
      "294465   925675  2017-01-07 20:38:26.346410  treatment     new_page          0\n",
      "294466   923948  2017-01-09 16:33:41.104573    control     old_page          0\n",
      "294467   857744  2017-01-05 08:00:56.024226    control     old_page          0\n",
      "294468   643562  2017-01-02 19:20:05.460595  treatment     new_page          0\n",
      "294469   755438  2017-01-18 17:35:06.149568    control     old_page          0\n",
      "294470   908354  2017-01-11 02:42:21.195145    control     old_page          0\n",
      "294471   718310  2017-01-21 22:44:20.378320    control     old_page          0\n",
      "294472   822004  2017-01-04 03:36:46.071379  treatment     new_page          0\n",
      "294473   751197  2017-01-03 22:28:38.630509    control     old_page          0\n",
      "294474   945152  2017-01-12 00:51:57.078372    control     old_page          0\n",
      "294475   734608  2017-01-22 11:45:03.439544    control     old_page          0\n",
      "294476   697314  2017-01-15 01:20:28.957438    control     old_page          0\n",
      "294477   715931  2017-01-16 12:40:24.467417  treatment     new_page          0\n",
      "\n",
      "[290585 rows x 5 columns]\n"
     ]
    }
   ],
   "source": [
    "#crete new dataset called df2\n",
    "df2 = df.drop(df.query('(group != \"treatment\" and landing_page == \"new_page\") or (group == \"treatment\" and landing_page != \"new_page\") or (group == \"control\" and landing_page != \"old_page\") or (group == \"control\" and landing_page != \"old_page\")').index)\n",
    "print(df2)"
   ]
  },
  {
   "cell_type": "code",
   "execution_count": 9,
   "metadata": {},
   "outputs": [
    {
     "name": "stdout",
     "output_type": "stream",
     "text": [
      "0\n"
     ]
    }
   ],
   "source": [
    "# Double Check all of the correct rows were removed - this should be 0\n",
    "yy= df2[((df2['group'] == 'treatment') == (df2['landing_page'] == 'new_page')) == False]\n",
    "print(len(yy))"
   ]
  },
  {
   "cell_type": "markdown",
   "metadata": {},
   "source": [
    "`3.` Use **df2** and the cells below to answer questions for **Quiz3** in the classroom."
   ]
  },
  {
   "cell_type": "markdown",
   "metadata": {},
   "source": [
    "a. How many unique **user_id**s are in **df2**?"
   ]
  },
  {
   "cell_type": "code",
   "execution_count": 10,
   "metadata": {},
   "outputs": [
    {
     "data": {
      "text/plain": [
       "290584"
      ]
     },
     "execution_count": 10,
     "metadata": {},
     "output_type": "execute_result"
    }
   ],
   "source": [
    "#unique user_id in new dataset which we create\n",
    "df2['user_id'].nunique()\n"
   ]
  },
  {
   "cell_type": "markdown",
   "metadata": {
    "collapsed": true
   },
   "source": [
    "b. There is one **user_id** repeated in **df2**.  What is it?"
   ]
  },
  {
   "cell_type": "code",
   "execution_count": 11,
   "metadata": {},
   "outputs": [
    {
     "name": "stdout",
     "output_type": "stream",
     "text": [
      "1899    773192\n",
      "2893    773192\n",
      "Name: user_id, dtype: int64\n"
     ]
    }
   ],
   "source": [
    "#appear our duplicated user_did\n",
    "x = df2[df2.duplicated(['user_id'], keep=False)]['user_id']\n",
    "print(x)"
   ]
  },
  {
   "cell_type": "markdown",
   "metadata": {},
   "source": [
    "c. What is the row information for the repeat **user_id**? "
   ]
  },
  {
   "cell_type": "code",
   "execution_count": 12,
   "metadata": {},
   "outputs": [
    {
     "name": "stdout",
     "output_type": "stream",
     "text": [
      "      user_id                   timestamp      group landing_page  converted\n",
      "1899   773192  2017-01-09 05:37:58.781806  treatment     new_page          0\n",
      "2893   773192  2017-01-14 02:55:59.590927  treatment     new_page          0\n",
      "============================================================================\n",
      "FIRST\n",
      "-----------\n",
      "user_id                             773192\n",
      "timestamp       2017-01-14 02:55:59.590927\n",
      "group                            treatment\n",
      "landing_page                      new_page\n",
      "converted                                0\n",
      "Name: 2893, dtype: object\n",
      "===========================================\n",
      "SECOND\n",
      "-----------\n",
      "user_id                             773192\n",
      "timestamp       2017-01-09 05:37:58.781806\n",
      "group                            treatment\n",
      "landing_page                      new_page\n",
      "converted                                0\n",
      "Name: 1899, dtype: object\n"
     ]
    }
   ],
   "source": [
    "y = df2[df2['user_id'] == 773192]\n",
    "print(y)\n",
    "print(\"============================================================================\")\n",
    "\n",
    "#first duplicated user_id\n",
    "print(\"FIRST\")\n",
    "print(\"-----------\")\n",
    "x1 = y.iloc[1,:]\n",
    "print(x1)\n",
    "print(\"===========================================\")\n",
    "#second duplicated user_id\n",
    "print(\"SECOND\")\n",
    "print(\"-----------\")\n",
    "x2 = y.iloc[0,:]\n",
    "print(x2)"
   ]
  },
  {
   "cell_type": "markdown",
   "metadata": {},
   "source": [
    "d. Remove **one** of the rows with a duplicate **user_id**, but keep your dataframe as **df2**."
   ]
  },
  {
   "cell_type": "code",
   "execution_count": 13,
   "metadata": {},
   "outputs": [
    {
     "name": "stdout",
     "output_type": "stream",
     "text": [
      "Series([], Name: user_id, dtype: int64)\n"
     ]
    },
    {
     "data": {
      "text/html": [
       "<div>\n",
       "<style scoped>\n",
       "    .dataframe tbody tr th:only-of-type {\n",
       "        vertical-align: middle;\n",
       "    }\n",
       "\n",
       "    .dataframe tbody tr th {\n",
       "        vertical-align: top;\n",
       "    }\n",
       "\n",
       "    .dataframe thead th {\n",
       "        text-align: right;\n",
       "    }\n",
       "</style>\n",
       "<table border=\"1\" class=\"dataframe\">\n",
       "  <thead>\n",
       "    <tr style=\"text-align: right;\">\n",
       "      <th></th>\n",
       "      <th>user_id</th>\n",
       "      <th>timestamp</th>\n",
       "      <th>group</th>\n",
       "      <th>landing_page</th>\n",
       "      <th>converted</th>\n",
       "    </tr>\n",
       "  </thead>\n",
       "  <tbody>\n",
       "    <tr>\n",
       "      <th>0</th>\n",
       "      <td>851104</td>\n",
       "      <td>2017-01-21 22:11:48.556739</td>\n",
       "      <td>control</td>\n",
       "      <td>old_page</td>\n",
       "      <td>0</td>\n",
       "    </tr>\n",
       "    <tr>\n",
       "      <th>1</th>\n",
       "      <td>804228</td>\n",
       "      <td>2017-01-12 08:01:45.159739</td>\n",
       "      <td>control</td>\n",
       "      <td>old_page</td>\n",
       "      <td>0</td>\n",
       "    </tr>\n",
       "    <tr>\n",
       "      <th>2</th>\n",
       "      <td>661590</td>\n",
       "      <td>2017-01-11 16:55:06.154213</td>\n",
       "      <td>treatment</td>\n",
       "      <td>new_page</td>\n",
       "      <td>0</td>\n",
       "    </tr>\n",
       "    <tr>\n",
       "      <th>3</th>\n",
       "      <td>853541</td>\n",
       "      <td>2017-01-08 18:28:03.143765</td>\n",
       "      <td>treatment</td>\n",
       "      <td>new_page</td>\n",
       "      <td>0</td>\n",
       "    </tr>\n",
       "    <tr>\n",
       "      <th>4</th>\n",
       "      <td>864975</td>\n",
       "      <td>2017-01-21 01:52:26.210827</td>\n",
       "      <td>control</td>\n",
       "      <td>old_page</td>\n",
       "      <td>1</td>\n",
       "    </tr>\n",
       "  </tbody>\n",
       "</table>\n",
       "</div>"
      ],
      "text/plain": [
       "   user_id                   timestamp      group landing_page  converted\n",
       "0   851104  2017-01-21 22:11:48.556739    control     old_page          0\n",
       "1   804228  2017-01-12 08:01:45.159739    control     old_page          0\n",
       "2   661590  2017-01-11 16:55:06.154213  treatment     new_page          0\n",
       "3   853541  2017-01-08 18:28:03.143765  treatment     new_page          0\n",
       "4   864975  2017-01-21 01:52:26.210827    control     old_page          1"
      ]
     },
     "execution_count": 13,
     "metadata": {},
     "output_type": "execute_result"
    }
   ],
   "source": [
    "#removing the second duplicated userid\n",
    "df2 = df2.drop(df2[(df2.user_id == 773192) & (df2['timestamp'] == \"2017-01-09 05:37:58.781806\")].index)\n",
    "\n",
    "#make sure that is deleted\n",
    "x = df2[df2.duplicated(['user_id'], keep=False)]['user_id']\n",
    "print(x)\n",
    "\n",
    "df2.head()"
   ]
  },
  {
   "cell_type": "markdown",
   "metadata": {},
   "source": [
    "`4.` Use **df2** in the cells below to answer the quiz questions related to **Quiz 4** in the classroom.\n",
    "\n",
    "a. What is the probability of an individual converting regardless of the page they receive?"
   ]
  },
  {
   "cell_type": "code",
   "execution_count": 14,
   "metadata": {},
   "outputs": [
    {
     "name": "stdout",
     "output_type": "stream",
     "text": [
      "290584\n",
      "-----------\n",
      "34753.0\n",
      "-----------\n",
      "0.11959708724499628\n",
      "-----------\n",
      "% 11.959708724499627\n"
     ]
    }
   ],
   "source": [
    "#lenght of df2 \n",
    "total2 = len(df2)\n",
    "print(total2)\n",
    "print(\"-----------\")\n",
    "\n",
    "#user converted of unique user_id\n",
    "converted2 = float(df2.query('converted == 1')['user_id'].nunique())\n",
    "print(converted2)\n",
    "print(\"-----------\")\n",
    "\n",
    "#proportion user converted\n",
    "b2 = converted2/float(total2)\n",
    "print(b2)\n",
    "print(\"-----------\")\n",
    "\n",
    "#percent \n",
    "print(\"%\",b2*100)\n"
   ]
  },
  {
   "cell_type": "markdown",
   "metadata": {},
   "source": [
    "b. Given that an individual was in the `control` group, what is the probability they converted?"
   ]
  },
  {
   "cell_type": "code",
   "execution_count": 15,
   "metadata": {},
   "outputs": [
    {
     "name": "stdout",
     "output_type": "stream",
     "text": [
      "17489.0\n",
      "-----------\n",
      "145274.0\n",
      "-----------\n",
      "0.1203863045004612\n",
      "-----------\n",
      "%  12.03863045004612\n"
     ]
    }
   ],
   "source": [
    "#N of converted user 1  and control group\n",
    "convertedcontrolusers2 = float(df2.query('converted == 1 and group == \"control\"')['user_id'].nunique())\n",
    "print(convertedcontrolusers2)\n",
    "print(\"-----------\")\n",
    "\n",
    "#N of  group control\n",
    "controlusers2 =float(df2.query('group == \"control\"')['user_id'].nunique())\n",
    "print(controlusers2)\n",
    "print(\"-----------\")\n",
    "\n",
    "#problaity of converted\n",
    "b3 = convertedcontrolusers2 /controlusers2\n",
    "print(b3)\n",
    "print(\"-----------\")\n",
    "\n",
    "#percent\n",
    "print(\"% \" ,b3*100)"
   ]
  },
  {
   "cell_type": "markdown",
   "metadata": {},
   "source": [
    "c. Given that an individual was in the `treatment` group, what is the probability they converted?"
   ]
  },
  {
   "cell_type": "code",
   "execution_count": 16,
   "metadata": {},
   "outputs": [
    {
     "name": "stdout",
     "output_type": "stream",
     "text": [
      "17264.0\n",
      "-----------\n",
      "145310.0\n",
      "-----------\n",
      "0.11880806551510564\n",
      "-----------\n",
      "%  11.880806551510565\n"
     ]
    }
   ],
   "source": [
    "#N of converted user 1  and control group\n",
    "convertedcontrolusers3 = float(df2.query('converted == 1 and group == \"treatment\"')['user_id'].nunique())\n",
    "print(convertedcontrolusers3)\n",
    "print(\"-----------\")\n",
    "\n",
    "#N of  group control\n",
    "controlusers3 =float(df2.query('group == \"treatment\"')['user_id'].nunique())\n",
    "print(controlusers3)\n",
    "print(\"-----------\")\n",
    "\n",
    "#problaity of converted\n",
    "b4 = convertedcontrolusers3 /controlusers3\n",
    "print(b4)\n",
    "print(\"-----------\")\n",
    "\n",
    "#percent\n",
    "print(\"% \" ,b4*100)"
   ]
  },
  {
   "cell_type": "markdown",
   "metadata": {},
   "source": [
    "d. What is the probability that an individual received the new page?"
   ]
  },
  {
   "cell_type": "code",
   "execution_count": 17,
   "metadata": {},
   "outputs": [
    {
     "name": "stdout",
     "output_type": "stream",
     "text": [
      "145310.0\n",
      "-----------\n",
      "0.5000619442226688\n",
      "-----------\n",
      "% 50.00619442226688\n"
     ]
    }
   ],
   "source": [
    "#user converted of unique user_id of new page\n",
    "new_page2 = float(df2.query('landing_page == \"new_page\"')['user_id'].nunique())\n",
    "print(new_page2)\n",
    "print(\"-----------\")\n",
    "\n",
    "#problaity of converted\n",
    "b5 = new_page2/float(total2)\n",
    "print(b5 )\n",
    "print(\"-----------\")\n",
    "\n",
    "#percent\n",
    "print(\"%\",b5*100)"
   ]
  },
  {
   "cell_type": "code",
   "execution_count": 18,
   "metadata": {},
   "outputs": [
    {
     "name": "stdout",
     "output_type": "stream",
     "text": [
      "17264.0\n",
      "-----------\n",
      "145310.0\n",
      "-----------\n",
      "0.11880806551510564\n",
      "-----------\n",
      "%  11.880806551510565\n"
     ]
    }
   ],
   "source": [
    "#N of converted user 1  and control group\n",
    "convertedcontrolusers4 = float(df2.query('converted == 1 and group == \"treatment\"')['user_id'].nunique())\n",
    "print(convertedcontrolusers4)\n",
    "print(\"-----------\")\n",
    "\n",
    "#N of  group control\n",
    "controlusers4 =float(df2.query('group == \"treatment\"')['user_id'].nunique())\n",
    "print(controlusers4)\n",
    "print(\"-----------\")\n",
    "\n",
    "#problaity of converted\n",
    "b5 = convertedcontrolusers4 /controlusers4\n",
    "print(b5)\n",
    "print(\"-----------\")\n",
    "\n",
    "#percent\n",
    "print(\"% \" ,b5*100)"
   ]
  },
  {
   "cell_type": "markdown",
   "metadata": {},
   "source": [
    "e. Consider your results from parts (a) through (d) above, and explain below whether you think there is sufficient evidence to conclude that the new treatment page leads to more conversions."
   ]
  },
  {
   "cell_type": "markdown",
   "metadata": {},
   "source": [
    "**Your answer goes here.**"
   ]
  },
  {
   "cell_type": "markdown",
   "metadata": {},
   "source": [
    "<a id='ab_test'></a>\n",
    "### Part II - A/B Test\n",
    "\n",
    "Notice that because of the time stamp associated with each event, you could technically run a hypothesis test continuously as each observation was observed.  \n",
    "\n",
    "However, then the hard question is do you stop as soon as one page is considered significantly better than another or does it need to happen consistently for a certain amount of time?  How long do you run to render a decision that neither page is better than another?  \n",
    "\n",
    "These questions are the difficult parts associated with A/B tests in general.  \n",
    "\n",
    "\n",
    "`1.` For now, consider you need to make the decision just based on all the data provided.  If you want to assume that the old page is better unless the new page proves to be definitely better at a Type I error rate of 5%, what should your null and alternative hypotheses be?  You can state your hypothesis in terms of words or in terms of **$p_{old}$** and **$p_{new}$**, which are the converted rates for the old and new pages."
   ]
  },
  {
   "cell_type": "markdown",
   "metadata": {},
   "source": [
    "Null hypothese is H0: p_new - p_old <= 0  \n",
    "Alternative hypothese is H1: p_new - p_old > 0 "
   ]
  },
  {
   "cell_type": "markdown",
   "metadata": {},
   "source": [
    "`2.` Assume under the null hypothesis, $p_{new}$ and $p_{old}$ both have \"true\" success rates equal to the **converted** success rate regardless of page - that is $p_{new}$ and $p_{old}$ are equal. Furthermore, assume they are equal to the **converted** rate in **ab_data.csv** regardless of the page. <br><br>\n",
    "\n",
    "Use a sample size for each page equal to the ones in **ab_data.csv**.  <br><br>\n",
    "\n",
    "Perform the sampling distribution for the difference in **converted** between the two pages over 10,000 iterations of calculating an estimate from the null.  <br><br>\n",
    "\n",
    "Use the cells below to provide the necessary parts of this simulation.  If this doesn't make complete sense right now, don't worry - you are going to work through the problems below to complete this problem.  You can use **Quiz 5** in the classroom to make sure you are on the right track.<br><br>"
   ]
  },
  {
   "cell_type": "markdown",
   "metadata": {},
   "source": [
    "a. What is the **conversion rate** for $p_{new}$ under the null? "
   ]
  },
  {
   "cell_type": "code",
   "execution_count": 19,
   "metadata": {},
   "outputs": [
    {
     "name": "stdout",
     "output_type": "stream",
     "text": [
      "0.11959708724499628\n"
     ]
    }
   ],
   "source": [
    "#conversion rate convunder the null\n",
    "Pnew = float(df2.query('converted == 1')['user_id'].nunique())/float(df2['user_id'].nunique())\n",
    "print(Pnew)"
   ]
  },
  {
   "cell_type": "markdown",
   "metadata": {},
   "source": [
    "b. What is the **conversion rate** for $p_{old}$ under the null? <br><br>"
   ]
  },
  {
   "cell_type": "code",
   "execution_count": 20,
   "metadata": {},
   "outputs": [
    {
     "name": "stdout",
     "output_type": "stream",
     "text": [
      "0.12104245244060237\n"
     ]
    }
   ],
   "source": [
    "#conversion rate p old convunder the null\n",
    "Pold = float(df.query('converted == 1')['user_id'].nunique())/float(df['user_id'].nunique())\n",
    "print(Pold)"
   ]
  },
  {
   "cell_type": "markdown",
   "metadata": {},
   "source": [
    "c. What is $n_{new}$, the number of individuals in the treatment group?"
   ]
  },
  {
   "cell_type": "code",
   "execution_count": 21,
   "metadata": {},
   "outputs": [
    {
     "name": "stdout",
     "output_type": "stream",
     "text": [
      "145310\n"
     ]
    }
   ],
   "source": [
    "# number of individuals in the treatment group\n",
    "N_individuals_treatment = df2.query('group == \"treatment\"')['user_id'].nunique()\n",
    "print(N_individuals_treatment)"
   ]
  },
  {
   "cell_type": "markdown",
   "metadata": {},
   "source": [
    "d. What is $n_{old}$, the number of individuals in the control group?"
   ]
  },
  {
   "cell_type": "code",
   "execution_count": 22,
   "metadata": {},
   "outputs": [
    {
     "name": "stdout",
     "output_type": "stream",
     "text": [
      "145274\n"
     ]
    }
   ],
   "source": [
    "#  number of individuals in the treatment group\n",
    "N_individuals_control = df2.query('group == \"control\"')['user_id'].nunique() \n",
    "print(N_individuals_control)"
   ]
  },
  {
   "cell_type": "markdown",
   "metadata": {},
   "source": [
    "e. Simulate $n_{new}$ transactions with a conversion rate of $p_{new}$ under the null.  Store these $n_{new}$ 1's and 0's in **new_page_converted**."
   ]
  },
  {
   "cell_type": "code",
   "execution_count": 23,
   "metadata": {},
   "outputs": [
    {
     "name": "stdout",
     "output_type": "stream",
     "text": [
      "145310\n",
      "----------\n"
     ]
    },
    {
     "data": {
      "text/plain": [
       "array([1, 1, 1, ..., 1, 1, 1])"
      ]
     },
     "execution_count": 23,
     "metadata": {},
     "output_type": "execute_result"
    }
   ],
   "source": [
    "#n_new_page\n",
    "N_newpage = df2.query('landing_page == \"new_page\"')['user_id'].nunique()\n",
    "print(N_newpage)\n",
    "print(\"----------\")\n",
    "\n",
    "new_page_converted = np.random.choice([0,1],N_newpage, p=(Pnew,1-Pnew))\n",
    "new_page_converted"
   ]
  },
  {
   "cell_type": "markdown",
   "metadata": {},
   "source": [
    "f. Simulate $n_{old}$ transactions with a conversion rate of $p_{old}$ under the null.  Store these $n_{old}$ 1's and 0's in **old_page_converted**."
   ]
  },
  {
   "cell_type": "code",
   "execution_count": 24,
   "metadata": {},
   "outputs": [
    {
     "name": "stdout",
     "output_type": "stream",
     "text": [
      "145310\n",
      "----------\n"
     ]
    },
    {
     "data": {
      "text/plain": [
       "array([1, 1, 1, ..., 1, 0, 1])"
      ]
     },
     "execution_count": 24,
     "metadata": {},
     "output_type": "execute_result"
    }
   ],
   "source": [
    "#N_old page\n",
    "N_oldpage = df2.query('landing_page == \"old_page\"')['user_id'].nunique() \n",
    "print(N_newpage)\n",
    "print(\"----------\")\n",
    "\n",
    "\n",
    "old_page_converted = np.random.choice([0,1],N_oldpage, p=(Pold,1-Pold))\n",
    "old_page_converted"
   ]
  },
  {
   "cell_type": "markdown",
   "metadata": {},
   "source": [
    "g. Find $p_{new}$ - $p_{old}$ for your simulated values from part (e) and (f)."
   ]
  },
  {
   "cell_type": "code",
   "execution_count": 25,
   "metadata": {},
   "outputs": [
    {
     "name": "stdout",
     "output_type": "stream",
     "text": [
      "0.880579450829\n",
      "----------\n",
      "0.879579277779\n",
      "----------\n"
     ]
    },
    {
     "data": {
      "text/plain": [
       "0.0010001730507189777"
      ]
     },
     "execution_count": 25,
     "metadata": {},
     "output_type": "execute_result"
    }
   ],
   "source": [
    "#Compute the probablity of new page converted rate\n",
    "x1 = new_page_converted.mean()\n",
    "print(x1)\n",
    "print(\"----------\")\n",
    "\n",
    "\n",
    "#Compute the probablity of old page converted rate\n",
    "x2 = old_page_converted.mean()\n",
    "print(x2)\n",
    "print(\"----------\")\n",
    "\n",
    "\n",
    "#P new -  P old\n",
    "xx = x1 - x2\n",
    "xx "
   ]
  },
  {
   "cell_type": "markdown",
   "metadata": {},
   "source": [
    "h. Create 10,000 $p_{new}$ - $p_{old}$ values using the same simulation process you used in parts (a) through (g) above. Store all 10,000 values in a NumPy array called **p_diffs**."
   ]
  },
  {
   "cell_type": "code",
   "execution_count": 26,
   "metadata": {},
   "outputs": [
    {
     "name": "stdout",
     "output_type": "stream",
     "text": [
      "758.5019142449999\n",
      "[-0.00092696  0.00220482  0.0015028  ...,  0.00099338  0.00219094\n",
      "  0.00123401]\n"
     ]
    }
   ],
   "source": [
    "#Import timeit library\n",
    "import timeit\n",
    "\n",
    "#starting time\n",
    "start = timeit.default_timer()\n",
    "\n",
    "# Create sampling distribution for difference in completion rates\n",
    "diffs = []\n",
    "size = len(df)\n",
    "for _ in range(10000):\n",
    "    samp = df2.sample(size, replace = True)\n",
    "    new_page_converted = np.random.choice([0,1],N_newpage, p=(Pnew,1-Pnew))\n",
    "    old_page_converted = np.random.choice([0,1],N_oldpage, p=(Pold,1-Pold))\n",
    "    diffs.append(new_page_converted.mean() - old_page_converted.mean())\n",
    "    \n",
    "#Compute python running time.\n",
    "stop = timeit.default_timer()\n",
    "print (stop - start )\n",
    "\n",
    "\n",
    "#convert to numpy array\n",
    "diffs = np.array(diffs)\n",
    "\n",
    "print(diffs)"
   ]
  },
  {
   "cell_type": "markdown",
   "metadata": {},
   "source": [
    "i. Plot a histogram of the **p_diffs**.  Does this plot look like what you expected?  Use the matching problem in the classroom to assure you fully understand what was computed here."
   ]
  },
  {
   "cell_type": "code",
   "execution_count": 27,
   "metadata": {},
   "outputs": [
    {
     "data": {
      "text/plain": [
       "(array([    9.,   114.,   482.,  1609.,  2709.,  2816.,  1574.,   579.,\n",
       "           99.,     9.]),\n",
       " array([-0.00317075, -0.00224845, -0.00132616, -0.00040386,  0.00051844,\n",
       "         0.00144073,  0.00236303,  0.00328532,  0.00420762,  0.00512991,\n",
       "         0.00605221]),\n",
       " <a list of 10 Patch objects>)"
      ]
     },
     "execution_count": 27,
     "metadata": {},
     "output_type": "execute_result"
    },
    {
     "data": {
      "image/png": "[encoded data removed]",
      "text/plain": [
       "<matplotlib.figure.Figure at 0x7ffa4dd34c88>"
      ]
     },
     "metadata": {
      "needs_background": "light"
     },
     "output_type": "display_data"
    }
   ],
   "source": [
    "plt.hist(diffs,color = \"r\")"
   ]
  },
  {
   "cell_type": "code",
   "execution_count": 28,
   "metadata": {},
   "outputs": [
    {
     "name": "stdout",
     "output_type": "stream",
     "text": [
      "17264\n",
      "-----------------\n",
      "real conv rate\n",
      "0.11880806551510564\n",
      "========================================================================\n",
      "17489\n",
      "-----------------\n",
      "real conv rate\n",
      "0.1203863045004612\n",
      "========================================================================\n",
      "-0.0015782389853555567\n"
     ]
    }
   ],
   "source": [
    "# Create number of users with all new_page users and all new_page users\n",
    "new = df2.query('converted == 1 and landing_page == \"new_page\"')['user_id'].nunique()\n",
    "print(new)\n",
    "# Compute real converted rate\n",
    "print(\"-----------------\")\n",
    "print(\"real conv rate\")\n",
    "real_cvt_new = float(new/ N_newpage) \n",
    "print(real_cvt_new)\n",
    "\n",
    "print(\"========================================================================\")\n",
    "\n",
    "# Create number of users with all old_page users and all old_page users\n",
    "old = df2.query('converted == 1 and landing_page == \"old_page\"')['user_id'].nunique()\n",
    "print(old)\n",
    "# Compute real converted rate\n",
    "print(\"-----------------\")\n",
    "print(\"real conv rate\")\n",
    "real_cvt_old = float(old/ N_oldpage)\n",
    "print(real_cvt_old)\n",
    "print(\"========================================================================\")\n",
    "diff = real_cvt_new - real_cvt_old\n",
    "print(diff)"
   ]
  },
  {
   "cell_type": "markdown",
   "metadata": {},
   "source": [
    "j. What proportion of the **p_diffs** are greater than the actual difference observed in **ab_data.csv**?"
   ]
  },
  {
   "cell_type": "code",
   "execution_count": 29,
   "metadata": {},
   "outputs": [
    {
     "data": {
      "text/plain": [
       "0.90249999999999997"
      ]
     },
     "execution_count": 29,
     "metadata": {},
     "output_type": "execute_result"
    },
    {
     "data": {
      "image/png": "[encoded data removed]",
      "text/plain": [
       "<matplotlib.figure.Figure at 0x7ffa4dd34be0>"
      ]
     },
     "metadata": {
      "needs_background": "light"
     },
     "output_type": "display_data"
    }
   ],
   "source": [
    "# create distribution under the null hypothesis\n",
    "null_vals = np.random.normal(0, diffs.std(), diffs.size)\n",
    "\n",
    "\n",
    "\n",
    "#Plot Null distribution\n",
    "plt.hist(null_vals,color = \"g\" )\n",
    "#Plot vertical line for observed statistic\n",
    "plt.axvline(x=diff,color ='red')\n",
    "\n",
    "\n",
    "\n",
    "#Compute proportion of the p_diffs are greater than the actual difference observed in ab_data.csv\n",
    "(null_vals >diff).mean()"
   ]
  },
  {
   "cell_type": "code",
   "execution_count": null,
   "metadata": {},
   "outputs": [],
   "source": []
  },
  {
   "cell_type": "markdown",
   "metadata": {},
   "source": [
    "k. Please explain using the vocabulary you've learned in this course what you just computed in part **j.**  What is this value called in scientific studies?  What does this value mean in terms of whether or not there is a difference between the new and old pages?"
   ]
  },
  {
   "cell_type": "markdown",
   "metadata": {},
   "source": [
    "We here failed to ignore the null  because Pold  is bigger than alpha and  type error rate is 5 5\n",
    "\n",
    "so , the data willl be shown with 0.05 of type I error rate\n",
    "\n",
    "so  , the new page has less problaity of convert rate than old page \n",
    "\n",
    "the p-value is the probability of obtaining results at least as extreme as the observed results of a statistical hypothesis test, assuming that the null hypothesis is correct"
   ]
  },
  {
   "cell_type": "markdown",
   "metadata": {},
   "source": [
    "l. We could also use a built-in to achieve similar results.  Though using the built-in might be easier to code, the above portions are a walkthrough of the ideas that are critical to correctly thinking about statistical significance. Fill in the below to calculate the number of conversions for each page, as well as the number of individuals who received each page. Let `n_old` and `n_new` refer the the number of rows associated with the old page and new pages, respectively."
   ]
  },
  {
   "cell_type": "code",
   "execution_count": 30,
   "metadata": {},
   "outputs": [
    {
     "name": "stderr",
     "output_type": "stream",
     "text": [
      "/opt/conda/lib/python3.6/site-packages/statsmodels/compat/pandas.py:56: FutureWarning: The pandas.core.datetools module is deprecated and will be removed in a future version. Please use the pandas.tseries module instead.\n",
      "  from pandas.core import datetools\n"
     ]
    }
   ],
   "source": [
    "import statsmodels.api as sm\n",
    "\n",
    "convert_old = old\n",
    "convert_new = new \n",
    "n_old = N_oldpage\n",
    "n_new = N_newpage"
   ]
  },
  {
   "cell_type": "markdown",
   "metadata": {},
   "source": [
    "m. Now use `stats.proportions_ztest` to compute your test statistic and p-value.  [Here](https://docs.w3cub.com/statsmodels/generated/statsmodels.stats.proportion.proportions_ztest/) is a helpful link on using the built in."
   ]
  },
  {
   "cell_type": "code",
   "execution_count": 31,
   "metadata": {},
   "outputs": [
    {
     "name": "stdout",
     "output_type": "stream",
     "text": [
      "values  is  :  0.905058312759\n",
      "Score is  :  -1.31092419842\n",
      "significant  of score : 0.094941687241\n",
      "critical value  confidence: 1.95996398454\n"
     ]
    }
   ],
   "source": [
    "#import libraries\n",
    "import statsmodels.api as sm\n",
    "from scipy.stats import norm\n",
    "\n",
    "\n",
    "#score and value of proportions_ztest\n",
    "score, value = sm.stats.proportions_ztest(np.array([convert_new,convert_old]),np.array([n_new,n_old]), alternative = 'larger')\n",
    "\n",
    "print(\"values  is  : \", value)\n",
    "print(\"Score is  : \" ,score)\n",
    "\n",
    "\n",
    "\n",
    "#significant  of score \n",
    "norm_score = norm.cdf(score)\n",
    "print(\"significant  of score :\",norm_score)\n",
    "\n",
    "\n",
    "\n",
    "\n",
    "#critical value  confidence \n",
    "conf = norm.ppf(1-(0.05/2))\n",
    "print(\"critical value  confidence:\",conf )\n",
    "\n",
    "z_score = score\n",
    "p_value = value"
   ]
  },
  {
   "cell_type": "markdown",
   "metadata": {},
   "source": [
    "n. What do the z-score and p-value you computed in the previous question mean for the conversion rates of the old and new pages?  Do they agree with the findings in parts **j.** and **k.**?"
   ]
  },
  {
   "cell_type": "markdown",
   "metadata": {},
   "source": [
    "Unfortunately we fail to ignore  the null hypothesis of old page because     the score of -1.3109241984234394 does not exceed the critical value of 1.959963984540054 \n",
    "\n",
    "The p values is values  is  :  0.905058312759 \n",
    "\n",
    "The signficant of score is : 0.094941687241\n",
    "\n",
    "The  old page users has a more good  converted rate than new page users. \n",
    "\n",
    "\n",
    "The converted rate for new page and old page have not much  difference.\n",
    "\n",
    "\n",
    "so the result in j and k wull be  the same result  \n"
   ]
  },
  {
   "cell_type": "markdown",
   "metadata": {},
   "source": [
    "<a id='regression'></a>\n",
    "### Part III - A regression approach\n",
    "\n",
    "`1.` In this final part, you will see that the result you achieved in the A/B test in Part II above can also be achieved by performing regression.<br><br> \n",
    "\n",
    "a. Since each row is either a conversion or no conversion, what type of regression should you be performing in this case?"
   ]
  },
  {
   "cell_type": "markdown",
   "metadata": {},
   "source": [
    "Logistic Regression, because the   variable response is categorical type. \n",
    "\n",
    "logistic regression is multiple regression but with an outcome variable that is a type variable and predictor \n",
    "variables that are continuous type and that could not be good \n"
   ]
  },
  {
   "cell_type": "markdown",
   "metadata": {},
   "source": [
    "b. The goal is to use **statsmodels** to fit the regression model you specified in part **a.** to see if there is a significant difference in conversion based on which page a customer receives. However, you first need to create in df2 a column for the intercept, and create a dummy variable column for which page each user received.  Add an **intercept** column, as well as an **ab_page** column, which is 1 when an individual receives the **treatment** and 0 if **control**."
   ]
  },
  {
   "cell_type": "code",
   "execution_count": 32,
   "metadata": {},
   "outputs": [
    {
     "name": "stdout",
     "output_type": "stream",
     "text": [
      "Index(['user_id', 'timestamp', 'group', 'landing_page', 'converted',\n",
      "       'Intercept'],\n",
      "      dtype='object')\n"
     ]
    },
    {
     "data": {
      "text/html": [
       "<div>\n",
       "<style scoped>\n",
       "    .dataframe tbody tr th:only-of-type {\n",
       "        vertical-align: middle;\n",
       "    }\n",
       "\n",
       "    .dataframe tbody tr th {\n",
       "        vertical-align: top;\n",
       "    }\n",
       "\n",
       "    .dataframe thead th {\n",
       "        text-align: right;\n",
       "    }\n",
       "</style>\n",
       "<table border=\"1\" class=\"dataframe\">\n",
       "  <thead>\n",
       "    <tr style=\"text-align: right;\">\n",
       "      <th></th>\n",
       "      <th>user_id</th>\n",
       "      <th>timestamp</th>\n",
       "      <th>group</th>\n",
       "      <th>landing_page</th>\n",
       "      <th>converted</th>\n",
       "      <th>Intercept</th>\n",
       "    </tr>\n",
       "  </thead>\n",
       "  <tbody>\n",
       "    <tr>\n",
       "      <th>0</th>\n",
       "      <td>851104</td>\n",
       "      <td>2017-01-21 22:11:48.556739</td>\n",
       "      <td>control</td>\n",
       "      <td>old_page</td>\n",
       "      <td>0</td>\n",
       "      <td>1</td>\n",
       "    </tr>\n",
       "    <tr>\n",
       "      <th>1</th>\n",
       "      <td>804228</td>\n",
       "      <td>2017-01-12 08:01:45.159739</td>\n",
       "      <td>control</td>\n",
       "      <td>old_page</td>\n",
       "      <td>0</td>\n",
       "      <td>1</td>\n",
       "    </tr>\n",
       "    <tr>\n",
       "      <th>2</th>\n",
       "      <td>661590</td>\n",
       "      <td>2017-01-11 16:55:06.154213</td>\n",
       "      <td>treatment</td>\n",
       "      <td>new_page</td>\n",
       "      <td>0</td>\n",
       "      <td>1</td>\n",
       "    </tr>\n",
       "    <tr>\n",
       "      <th>3</th>\n",
       "      <td>853541</td>\n",
       "      <td>2017-01-08 18:28:03.143765</td>\n",
       "      <td>treatment</td>\n",
       "      <td>new_page</td>\n",
       "      <td>0</td>\n",
       "      <td>1</td>\n",
       "    </tr>\n",
       "    <tr>\n",
       "      <th>4</th>\n",
       "      <td>864975</td>\n",
       "      <td>2017-01-21 01:52:26.210827</td>\n",
       "      <td>control</td>\n",
       "      <td>old_page</td>\n",
       "      <td>1</td>\n",
       "      <td>1</td>\n",
       "    </tr>\n",
       "  </tbody>\n",
       "</table>\n",
       "</div>"
      ],
      "text/plain": [
       "   user_id                   timestamp      group landing_page  converted  \\\n",
       "0   851104  2017-01-21 22:11:48.556739    control     old_page          0   \n",
       "1   804228  2017-01-12 08:01:45.159739    control     old_page          0   \n",
       "2   661590  2017-01-11 16:55:06.154213  treatment     new_page          0   \n",
       "3   853541  2017-01-08 18:28:03.143765  treatment     new_page          0   \n",
       "4   864975  2017-01-21 01:52:26.210827    control     old_page          1   \n",
       "\n",
       "   Intercept  \n",
       "0          1  \n",
       "1          1  \n",
       "2          1  \n",
       "3          1  \n",
       "4          1  "
      ]
     },
     "execution_count": 32,
     "metadata": {},
     "output_type": "execute_result"
    }
   ],
   "source": [
    "#create new  column \n",
    "df2['Intercept'] = 1\n",
    "\n",
    "print(df2.columns)\n",
    "df2.head()\n",
    "\n"
   ]
  },
  {
   "cell_type": "code",
   "execution_count": 33,
   "metadata": {},
   "outputs": [
    {
     "data": {
      "text/html": [
       "<div>\n",
       "<style scoped>\n",
       "    .dataframe tbody tr th:only-of-type {\n",
       "        vertical-align: middle;\n",
       "    }\n",
       "\n",
       "    .dataframe tbody tr th {\n",
       "        vertical-align: top;\n",
       "    }\n",
       "\n",
       "    .dataframe thead th {\n",
       "        text-align: right;\n",
       "    }\n",
       "</style>\n",
       "<table border=\"1\" class=\"dataframe\">\n",
       "  <thead>\n",
       "    <tr style=\"text-align: right;\">\n",
       "      <th></th>\n",
       "      <th>user_id</th>\n",
       "      <th>timestamp</th>\n",
       "      <th>group</th>\n",
       "      <th>landing_page</th>\n",
       "      <th>converted</th>\n",
       "      <th>Intercept</th>\n",
       "      <th>new_page</th>\n",
       "      <th>old_page</th>\n",
       "      <th>page</th>\n",
       "    </tr>\n",
       "  </thead>\n",
       "  <tbody>\n",
       "    <tr>\n",
       "      <th>0</th>\n",
       "      <td>851104</td>\n",
       "      <td>2017-01-21 22:11:48.556739</td>\n",
       "      <td>control</td>\n",
       "      <td>old_page</td>\n",
       "      <td>0</td>\n",
       "      <td>1</td>\n",
       "      <td>0</td>\n",
       "      <td>1</td>\n",
       "      <td>0</td>\n",
       "    </tr>\n",
       "    <tr>\n",
       "      <th>1</th>\n",
       "      <td>804228</td>\n",
       "      <td>2017-01-12 08:01:45.159739</td>\n",
       "      <td>control</td>\n",
       "      <td>old_page</td>\n",
       "      <td>0</td>\n",
       "      <td>1</td>\n",
       "      <td>0</td>\n",
       "      <td>1</td>\n",
       "      <td>0</td>\n",
       "    </tr>\n",
       "    <tr>\n",
       "      <th>2</th>\n",
       "      <td>661590</td>\n",
       "      <td>2017-01-11 16:55:06.154213</td>\n",
       "      <td>treatment</td>\n",
       "      <td>new_page</td>\n",
       "      <td>0</td>\n",
       "      <td>1</td>\n",
       "      <td>1</td>\n",
       "      <td>0</td>\n",
       "      <td>1</td>\n",
       "    </tr>\n",
       "    <tr>\n",
       "      <th>3</th>\n",
       "      <td>853541</td>\n",
       "      <td>2017-01-08 18:28:03.143765</td>\n",
       "      <td>treatment</td>\n",
       "      <td>new_page</td>\n",
       "      <td>0</td>\n",
       "      <td>1</td>\n",
       "      <td>1</td>\n",
       "      <td>0</td>\n",
       "      <td>1</td>\n",
       "    </tr>\n",
       "    <tr>\n",
       "      <th>4</th>\n",
       "      <td>864975</td>\n",
       "      <td>2017-01-21 01:52:26.210827</td>\n",
       "      <td>control</td>\n",
       "      <td>old_page</td>\n",
       "      <td>1</td>\n",
       "      <td>1</td>\n",
       "      <td>0</td>\n",
       "      <td>1</td>\n",
       "      <td>0</td>\n",
       "    </tr>\n",
       "  </tbody>\n",
       "</table>\n",
       "</div>"
      ],
      "text/plain": [
       "   user_id                   timestamp      group landing_page  converted  \\\n",
       "0   851104  2017-01-21 22:11:48.556739    control     old_page          0   \n",
       "1   804228  2017-01-12 08:01:45.159739    control     old_page          0   \n",
       "2   661590  2017-01-11 16:55:06.154213  treatment     new_page          0   \n",
       "3   853541  2017-01-08 18:28:03.143765  treatment     new_page          0   \n",
       "4   864975  2017-01-21 01:52:26.210827    control     old_page          1   \n",
       "\n",
       "   Intercept  new_page  old_page  page  \n",
       "0          1         0         1     0  \n",
       "1          1         0         1     0  \n",
       "2          1         1         0     1  \n",
       "3          1         1         0     1  \n",
       "4          1         0         1     0  "
      ]
     },
     "execution_count": 33,
     "metadata": {},
     "output_type": "execute_result"
    }
   ],
   "source": [
    "#create a dummy variable column for which page user recived\n",
    "df2= df2.join(pd.get_dummies(df2['landing_page']))\n",
    "\n",
    "df2['page'] = pd.get_dummies(df['group']) ['treatment']\n",
    "\n",
    "\n",
    "df2.head()\n",
    "\n"
   ]
  },
  {
   "cell_type": "markdown",
   "metadata": {},
   "source": [
    "c. Use **statsmodels** to instantiate your regression model on the two columns you created in part b., then fit the model using the two columns you created in part **b.** to predict whether or not an individual converts. "
   ]
  },
  {
   "cell_type": "code",
   "execution_count": 34,
   "metadata": {},
   "outputs": [
    {
     "name": "stdout",
     "output_type": "stream",
     "text": [
      "Optimization terminated successfully.\n",
      "         Current function value: 0.366118\n",
      "         Iterations 6\n"
     ]
    }
   ],
   "source": [
    "#import libraries\n",
    "import statsmodels.api as sm\n",
    "\n",
    "#Create Logit regression model and fit it\n",
    "logitsic = sm.Logit(df2['converted'], df2[['Intercept','page']]).fit()\n"
   ]
  },
  {
   "cell_type": "markdown",
   "metadata": {},
   "source": [
    "d. Provide the summary of your model below, and use it as necessary to answer the following questions."
   ]
  },
  {
   "cell_type": "code",
   "execution_count": 35,
   "metadata": {},
   "outputs": [
    {
     "name": "stdout",
     "output_type": "stream",
     "text": [
      "Intercept   -1.988777\n",
      "page        -0.014989\n",
      "dtype: float64\n"
     ]
    }
   ],
   "source": [
    "#summary of our result\n",
    "print(logitsic.params)\n",
    "\n",
    "print(logitsic.summary())"
   ]
  },
  {
   "cell_type": "markdown",
   "metadata": {},
   "source": [
    "e. What is the p-value associated with **ab_page**? Why does it differ from the value you found in **Part II**?<br><br>  **Hint**: What are the null and alternative hypotheses associated with your regression model, and how do they compare to the null and alternative hypotheses in **Part II**?"
   ]
  },
  {
   "cell_type": "markdown",
   "metadata": {},
   "source": [
    "The coef  of ab_page is -0.014989 \n",
    "\n",
    "The coef  of intercet is -1.9887\n",
    "\n",
    "The null mean that there is not any differnece between for  control group and treatment group \n",
    "\n",
    "p value for ab_page dataset is  0.19  but for intercet is 0.00\n",
    "\n",
    " g\n",
    "Alternative hypotheses mean that there is   differnece between for  control group and treatment group \n"
   ]
  },
  {
   "cell_type": "markdown",
   "metadata": {},
   "source": [
    "f. Now, you are considering other things that might influence whether or not an individual converts.  Discuss why it is a good idea to consider other factors to add into your regression model.  Are there any disadvantages to adding additional terms into your regression model?"
   ]
  },
  {
   "cell_type": "markdown",
   "metadata": {},
   "source": [
    "\n",
    "\n",
    "If it is timestamp we could build conversion rate for user every time he visit our website and we could deal with time as categorical instead of integer like we could use the parts of the day.\n",
    "\n",
    "But we have some isses with that , wil make the model more complex and not easy   and that will result that we need more time for it \n",
    "\n"
   ]
  },
  {
   "cell_type": "markdown",
   "metadata": {},
   "source": [
    "g. Now along with testing if the conversion rate changes for different pages, also add an effect based on which country a user lives in. You will need to read in the **countries.csv** dataset and merge together your datasets on the appropriate rows.  [Here](https://pandas.pydata.org/pandas-docs/stable/generated/pandas.DataFrame.join.html) are the docs for joining tables. \n",
    "\n",
    "Does it appear that country had an impact on conversion?  Don't forget to create dummy variables for these country columns - **Hint: You will need two columns for the three dummy variables.** Provide the statistical output as well as a written response to answer this question."
   ]
  },
  {
   "cell_type": "code",
   "execution_count": 36,
   "metadata": {},
   "outputs": [
    {
     "name": "stdout",
     "output_type": "stream",
     "text": [
      "290584\n",
      "==================================\n",
      "290584\n",
      "==================================\n",
      "we can add themm to df2\n"
     ]
    },
    {
     "data": {
      "text/html": [
       "<div>\n",
       "<style scoped>\n",
       "    .dataframe tbody tr th:only-of-type {\n",
       "        vertical-align: middle;\n",
       "    }\n",
       "\n",
       "    .dataframe tbody tr th {\n",
       "        vertical-align: top;\n",
       "    }\n",
       "\n",
       "    .dataframe thead th {\n",
       "        text-align: right;\n",
       "    }\n",
       "</style>\n",
       "<table border=\"1\" class=\"dataframe\">\n",
       "  <thead>\n",
       "    <tr style=\"text-align: right;\">\n",
       "      <th></th>\n",
       "      <th>user_id</th>\n",
       "      <th>country</th>\n",
       "    </tr>\n",
       "  </thead>\n",
       "  <tbody>\n",
       "    <tr>\n",
       "      <th>0</th>\n",
       "      <td>834778</td>\n",
       "      <td>UK</td>\n",
       "    </tr>\n",
       "    <tr>\n",
       "      <th>1</th>\n",
       "      <td>928468</td>\n",
       "      <td>US</td>\n",
       "    </tr>\n",
       "    <tr>\n",
       "      <th>2</th>\n",
       "      <td>822059</td>\n",
       "      <td>UK</td>\n",
       "    </tr>\n",
       "    <tr>\n",
       "      <th>3</th>\n",
       "      <td>711597</td>\n",
       "      <td>UK</td>\n",
       "    </tr>\n",
       "    <tr>\n",
       "      <th>4</th>\n",
       "      <td>710616</td>\n",
       "      <td>UK</td>\n",
       "    </tr>\n",
       "  </tbody>\n",
       "</table>\n",
       "</div>"
      ],
      "text/plain": [
       "   user_id country\n",
       "0   834778      UK\n",
       "1   928468      US\n",
       "2   822059      UK\n",
       "3   711597      UK\n",
       "4   710616      UK"
      ]
     },
     "execution_count": 36,
     "metadata": {},
     "output_type": "execute_result"
    }
   ],
   "source": [
    "#read country dataset\n",
    "country = pd.read_csv('countries.csv')\n",
    "print(len(country ))\n",
    "print(\"==================================\")\n",
    "print(len(df2))\n",
    "print(\"==================================\")\n",
    "\n",
    "if len(df2)==len(country):\n",
    "    print(\"we can add themm to df2\")\n",
    "else: \n",
    "    print(\"we wont be able to add them \")\n",
    "country.head()"
   ]
  },
  {
   "cell_type": "code",
   "execution_count": 37,
   "metadata": {},
   "outputs": [
    {
     "name": "stdout",
     "output_type": "stream",
     "text": [
      "290584\n",
      "==================================\n",
      "Index(['user_id', 'timestamp', 'group', 'landing_page', 'converted'], dtype='object')\n",
      "==================================\n",
      "<class 'pandas.core.frame.DataFrame'>\n",
      "Int64Index: 290584 entries, 0 to 290583\n",
      "Data columns (total 10 columns):\n",
      "user_id         290584 non-null int64\n",
      "timestamp       290584 non-null object\n",
      "group           290584 non-null object\n",
      "landing_page    290584 non-null object\n",
      "converted       290584 non-null int64\n",
      "Intercept       290584 non-null int64\n",
      "new_page        290584 non-null uint8\n",
      "old_page        290584 non-null uint8\n",
      "page            290584 non-null uint8\n",
      "country         290584 non-null object\n",
      "dtypes: int64(3), object(4), uint8(3)\n",
      "memory usage: 18.6+ MB\n",
      "None\n",
      "==================================\n"
     ]
    },
    {
     "data": {
      "text/html": [
       "<div>\n",
       "<style scoped>\n",
       "    .dataframe tbody tr th:only-of-type {\n",
       "        vertical-align: middle;\n",
       "    }\n",
       "\n",
       "    .dataframe tbody tr th {\n",
       "        vertical-align: top;\n",
       "    }\n",
       "\n",
       "    .dataframe thead th {\n",
       "        text-align: right;\n",
       "    }\n",
       "</style>\n",
       "<table border=\"1\" class=\"dataframe\">\n",
       "  <thead>\n",
       "    <tr style=\"text-align: right;\">\n",
       "      <th></th>\n",
       "      <th>user_id</th>\n",
       "      <th>timestamp</th>\n",
       "      <th>group</th>\n",
       "      <th>landing_page</th>\n",
       "      <th>converted</th>\n",
       "      <th>Intercept</th>\n",
       "      <th>new_page</th>\n",
       "      <th>old_page</th>\n",
       "      <th>page</th>\n",
       "      <th>country</th>\n",
       "    </tr>\n",
       "  </thead>\n",
       "  <tbody>\n",
       "    <tr>\n",
       "      <th>0</th>\n",
       "      <td>851104</td>\n",
       "      <td>2017-01-21 22:11:48.556739</td>\n",
       "      <td>control</td>\n",
       "      <td>old_page</td>\n",
       "      <td>0</td>\n",
       "      <td>1</td>\n",
       "      <td>0</td>\n",
       "      <td>1</td>\n",
       "      <td>0</td>\n",
       "      <td>US</td>\n",
       "    </tr>\n",
       "    <tr>\n",
       "      <th>1</th>\n",
       "      <td>804228</td>\n",
       "      <td>2017-01-12 08:01:45.159739</td>\n",
       "      <td>control</td>\n",
       "      <td>old_page</td>\n",
       "      <td>0</td>\n",
       "      <td>1</td>\n",
       "      <td>0</td>\n",
       "      <td>1</td>\n",
       "      <td>0</td>\n",
       "      <td>US</td>\n",
       "    </tr>\n",
       "    <tr>\n",
       "      <th>2</th>\n",
       "      <td>661590</td>\n",
       "      <td>2017-01-11 16:55:06.154213</td>\n",
       "      <td>treatment</td>\n",
       "      <td>new_page</td>\n",
       "      <td>0</td>\n",
       "      <td>1</td>\n",
       "      <td>1</td>\n",
       "      <td>0</td>\n",
       "      <td>1</td>\n",
       "      <td>US</td>\n",
       "    </tr>\n",
       "    <tr>\n",
       "      <th>3</th>\n",
       "      <td>853541</td>\n",
       "      <td>2017-01-08 18:28:03.143765</td>\n",
       "      <td>treatment</td>\n",
       "      <td>new_page</td>\n",
       "      <td>0</td>\n",
       "      <td>1</td>\n",
       "      <td>1</td>\n",
       "      <td>0</td>\n",
       "      <td>1</td>\n",
       "      <td>US</td>\n",
       "    </tr>\n",
       "    <tr>\n",
       "      <th>4</th>\n",
       "      <td>864975</td>\n",
       "      <td>2017-01-21 01:52:26.210827</td>\n",
       "      <td>control</td>\n",
       "      <td>old_page</td>\n",
       "      <td>1</td>\n",
       "      <td>1</td>\n",
       "      <td>0</td>\n",
       "      <td>1</td>\n",
       "      <td>0</td>\n",
       "      <td>US</td>\n",
       "    </tr>\n",
       "  </tbody>\n",
       "</table>\n",
       "</div>"
      ],
      "text/plain": [
       "   user_id                   timestamp      group landing_page  converted  \\\n",
       "0   851104  2017-01-21 22:11:48.556739    control     old_page          0   \n",
       "1   804228  2017-01-12 08:01:45.159739    control     old_page          0   \n",
       "2   661590  2017-01-11 16:55:06.154213  treatment     new_page          0   \n",
       "3   853541  2017-01-08 18:28:03.143765  treatment     new_page          0   \n",
       "4   864975  2017-01-21 01:52:26.210827    control     old_page          1   \n",
       "\n",
       "   Intercept  new_page  old_page  page country  \n",
       "0          1         0         1     0      US  \n",
       "1          1         0         1     0      US  \n",
       "2          1         1         0     1      US  \n",
       "3          1         1         0     1      US  \n",
       "4          1         0         1     0      US  "
      ]
     },
     "execution_count": 37,
     "metadata": {},
     "output_type": "execute_result"
    }
   ],
   "source": [
    "\n",
    "#add ab dataset with country dataset\n",
    "df3 = df2.merge(country, on ='user_id')\n",
    "print(len(df3))\n",
    "print(\"==================================\")\n",
    "print(df.columns)\n",
    "print(\"==================================\")\n",
    "\n",
    "print(df3.info())\n",
    "print(\"==================================\")\n",
    "df3.head()\n"
   ]
  },
  {
   "cell_type": "code",
   "execution_count": 38,
   "metadata": {},
   "outputs": [
    {
     "data": {
      "text/html": [
       "<div>\n",
       "<style scoped>\n",
       "    .dataframe tbody tr th:only-of-type {\n",
       "        vertical-align: middle;\n",
       "    }\n",
       "\n",
       "    .dataframe tbody tr th {\n",
       "        vertical-align: top;\n",
       "    }\n",
       "\n",
       "    .dataframe thead th {\n",
       "        text-align: right;\n",
       "    }\n",
       "</style>\n",
       "<table border=\"1\" class=\"dataframe\">\n",
       "  <thead>\n",
       "    <tr style=\"text-align: right;\">\n",
       "      <th></th>\n",
       "      <th>user_id</th>\n",
       "      <th>timestamp</th>\n",
       "      <th>group</th>\n",
       "      <th>landing_page</th>\n",
       "      <th>converted</th>\n",
       "      <th>Intercept</th>\n",
       "      <th>new_page</th>\n",
       "      <th>old_page</th>\n",
       "      <th>page</th>\n",
       "      <th>country</th>\n",
       "      <th>US</th>\n",
       "      <th>UK</th>\n",
       "      <th>CA</th>\n",
       "    </tr>\n",
       "  </thead>\n",
       "  <tbody>\n",
       "    <tr>\n",
       "      <th>0</th>\n",
       "      <td>851104</td>\n",
       "      <td>2017-01-21 22:11:48.556739</td>\n",
       "      <td>control</td>\n",
       "      <td>old_page</td>\n",
       "      <td>0</td>\n",
       "      <td>1</td>\n",
       "      <td>0</td>\n",
       "      <td>1</td>\n",
       "      <td>0</td>\n",
       "      <td>US</td>\n",
       "      <td>0</td>\n",
       "      <td>0</td>\n",
       "      <td>1</td>\n",
       "    </tr>\n",
       "    <tr>\n",
       "      <th>1</th>\n",
       "      <td>804228</td>\n",
       "      <td>2017-01-12 08:01:45.159739</td>\n",
       "      <td>control</td>\n",
       "      <td>old_page</td>\n",
       "      <td>0</td>\n",
       "      <td>1</td>\n",
       "      <td>0</td>\n",
       "      <td>1</td>\n",
       "      <td>0</td>\n",
       "      <td>US</td>\n",
       "      <td>0</td>\n",
       "      <td>0</td>\n",
       "      <td>1</td>\n",
       "    </tr>\n",
       "    <tr>\n",
       "      <th>2</th>\n",
       "      <td>661590</td>\n",
       "      <td>2017-01-11 16:55:06.154213</td>\n",
       "      <td>treatment</td>\n",
       "      <td>new_page</td>\n",
       "      <td>0</td>\n",
       "      <td>1</td>\n",
       "      <td>1</td>\n",
       "      <td>0</td>\n",
       "      <td>1</td>\n",
       "      <td>US</td>\n",
       "      <td>0</td>\n",
       "      <td>0</td>\n",
       "      <td>1</td>\n",
       "    </tr>\n",
       "    <tr>\n",
       "      <th>3</th>\n",
       "      <td>853541</td>\n",
       "      <td>2017-01-08 18:28:03.143765</td>\n",
       "      <td>treatment</td>\n",
       "      <td>new_page</td>\n",
       "      <td>0</td>\n",
       "      <td>1</td>\n",
       "      <td>1</td>\n",
       "      <td>0</td>\n",
       "      <td>1</td>\n",
       "      <td>US</td>\n",
       "      <td>0</td>\n",
       "      <td>0</td>\n",
       "      <td>1</td>\n",
       "    </tr>\n",
       "    <tr>\n",
       "      <th>4</th>\n",
       "      <td>864975</td>\n",
       "      <td>2017-01-21 01:52:26.210827</td>\n",
       "      <td>control</td>\n",
       "      <td>old_page</td>\n",
       "      <td>1</td>\n",
       "      <td>1</td>\n",
       "      <td>0</td>\n",
       "      <td>1</td>\n",
       "      <td>0</td>\n",
       "      <td>US</td>\n",
       "      <td>0</td>\n",
       "      <td>0</td>\n",
       "      <td>1</td>\n",
       "    </tr>\n",
       "  </tbody>\n",
       "</table>\n",
       "</div>"
      ],
      "text/plain": [
       "   user_id                   timestamp      group landing_page  converted  \\\n",
       "0   851104  2017-01-21 22:11:48.556739    control     old_page          0   \n",
       "1   804228  2017-01-12 08:01:45.159739    control     old_page          0   \n",
       "2   661590  2017-01-11 16:55:06.154213  treatment     new_page          0   \n",
       "3   853541  2017-01-08 18:28:03.143765  treatment     new_page          0   \n",
       "4   864975  2017-01-21 01:52:26.210827    control     old_page          1   \n",
       "\n",
       "   Intercept  new_page  old_page  page country  US  UK  CA  \n",
       "0          1         0         1     0      US   0   0   1  \n",
       "1          1         0         1     0      US   0   0   1  \n",
       "2          1         1         0     1      US   0   0   1  \n",
       "3          1         1         0     1      US   0   0   1  \n",
       "4          1         0         1     0      US   0   0   1  "
      ]
     },
     "execution_count": 38,
     "metadata": {},
     "output_type": "execute_result"
    }
   ],
   "source": [
    "#repeat everything again\n",
    "#get dummy variables\n",
    "df3[['US','UK','CA']] = pd.get_dummies(df3['country'])\n",
    "df3.head()"
   ]
  },
  {
   "cell_type": "code",
   "execution_count": 39,
   "metadata": {},
   "outputs": [
    {
     "name": "stdout",
     "output_type": "stream",
     "text": [
      "Index(['user_id', 'timestamp', 'group', 'landing_page', 'converted',\n",
      "       'Intercept', 'new_page', 'old_page', 'page', 'country', 'US', 'UK',\n",
      "       'CA'],\n",
      "      dtype='object')\n"
     ]
    },
    {
     "data": {
      "text/html": [
       "<div>\n",
       "<style scoped>\n",
       "    .dataframe tbody tr th:only-of-type {\n",
       "        vertical-align: middle;\n",
       "    }\n",
       "\n",
       "    .dataframe tbody tr th {\n",
       "        vertical-align: top;\n",
       "    }\n",
       "\n",
       "    .dataframe thead th {\n",
       "        text-align: right;\n",
       "    }\n",
       "</style>\n",
       "<table border=\"1\" class=\"dataframe\">\n",
       "  <thead>\n",
       "    <tr style=\"text-align: right;\">\n",
       "      <th></th>\n",
       "      <th>user_id</th>\n",
       "      <th>timestamp</th>\n",
       "      <th>group</th>\n",
       "      <th>landing_page</th>\n",
       "      <th>converted</th>\n",
       "      <th>Intercept</th>\n",
       "      <th>new_page</th>\n",
       "      <th>old_page</th>\n",
       "      <th>page</th>\n",
       "      <th>country</th>\n",
       "      <th>US</th>\n",
       "      <th>UK</th>\n",
       "      <th>CA</th>\n",
       "    </tr>\n",
       "  </thead>\n",
       "  <tbody>\n",
       "    <tr>\n",
       "      <th>0</th>\n",
       "      <td>851104</td>\n",
       "      <td>2017-01-21 22:11:48.556739</td>\n",
       "      <td>control</td>\n",
       "      <td>old_page</td>\n",
       "      <td>0</td>\n",
       "      <td>1</td>\n",
       "      <td>0</td>\n",
       "      <td>1</td>\n",
       "      <td>0</td>\n",
       "      <td>US</td>\n",
       "      <td>0</td>\n",
       "      <td>0</td>\n",
       "      <td>1</td>\n",
       "    </tr>\n",
       "    <tr>\n",
       "      <th>1</th>\n",
       "      <td>804228</td>\n",
       "      <td>2017-01-12 08:01:45.159739</td>\n",
       "      <td>control</td>\n",
       "      <td>old_page</td>\n",
       "      <td>0</td>\n",
       "      <td>1</td>\n",
       "      <td>0</td>\n",
       "      <td>1</td>\n",
       "      <td>0</td>\n",
       "      <td>US</td>\n",
       "      <td>0</td>\n",
       "      <td>0</td>\n",
       "      <td>1</td>\n",
       "    </tr>\n",
       "    <tr>\n",
       "      <th>2</th>\n",
       "      <td>661590</td>\n",
       "      <td>2017-01-11 16:55:06.154213</td>\n",
       "      <td>treatment</td>\n",
       "      <td>new_page</td>\n",
       "      <td>0</td>\n",
       "      <td>1</td>\n",
       "      <td>1</td>\n",
       "      <td>0</td>\n",
       "      <td>1</td>\n",
       "      <td>US</td>\n",
       "      <td>0</td>\n",
       "      <td>0</td>\n",
       "      <td>1</td>\n",
       "    </tr>\n",
       "    <tr>\n",
       "      <th>3</th>\n",
       "      <td>853541</td>\n",
       "      <td>2017-01-08 18:28:03.143765</td>\n",
       "      <td>treatment</td>\n",
       "      <td>new_page</td>\n",
       "      <td>0</td>\n",
       "      <td>1</td>\n",
       "      <td>1</td>\n",
       "      <td>0</td>\n",
       "      <td>1</td>\n",
       "      <td>US</td>\n",
       "      <td>0</td>\n",
       "      <td>0</td>\n",
       "      <td>1</td>\n",
       "    </tr>\n",
       "    <tr>\n",
       "      <th>4</th>\n",
       "      <td>864975</td>\n",
       "      <td>2017-01-21 01:52:26.210827</td>\n",
       "      <td>control</td>\n",
       "      <td>old_page</td>\n",
       "      <td>1</td>\n",
       "      <td>1</td>\n",
       "      <td>0</td>\n",
       "      <td>1</td>\n",
       "      <td>0</td>\n",
       "      <td>US</td>\n",
       "      <td>0</td>\n",
       "      <td>0</td>\n",
       "      <td>1</td>\n",
       "    </tr>\n",
       "  </tbody>\n",
       "</table>\n",
       "</div>"
      ],
      "text/plain": [
       "   user_id                   timestamp      group landing_page  converted  \\\n",
       "0   851104  2017-01-21 22:11:48.556739    control     old_page          0   \n",
       "1   804228  2017-01-12 08:01:45.159739    control     old_page          0   \n",
       "2   661590  2017-01-11 16:55:06.154213  treatment     new_page          0   \n",
       "3   853541  2017-01-08 18:28:03.143765  treatment     new_page          0   \n",
       "4   864975  2017-01-21 01:52:26.210827    control     old_page          1   \n",
       "\n",
       "   Intercept  new_page  old_page  page country  US  UK  CA  \n",
       "0          1         0         1     0      US   0   0   1  \n",
       "1          1         0         1     0      US   0   0   1  \n",
       "2          1         1         0     1      US   0   0   1  \n",
       "3          1         1         0     1      US   0   0   1  \n",
       "4          1         0         1     0      US   0   0   1  "
      ]
     },
     "execution_count": 39,
     "metadata": {},
     "output_type": "execute_result"
    }
   ],
   "source": [
    "#Create intercept column\n",
    "df3['Intercept'] = 1\n",
    "print(df3.columns)\n",
    "df3.head()\n"
   ]
  },
  {
   "cell_type": "code",
   "execution_count": 40,
   "metadata": {},
   "outputs": [
    {
     "name": "stdout",
     "output_type": "stream",
     "text": [
      "Warning: Maximum number of iterations has been exceeded.\n",
      "         Current function value: 0.366113\n",
      "         Iterations: 35\n",
      "Intercept   -1.499672\n",
      "new_page    -0.014943\n",
      "UK          -0.479716\n",
      "US          -0.530356\n",
      "CA          -0.489599\n",
      "dtype: float64\n",
      "=======================================\n"
     ]
    },
    {
     "name": "stderr",
     "output_type": "stream",
     "text": [
      "/opt/conda/lib/python3.6/site-packages/statsmodels/base/model.py:496: ConvergenceWarning: Maximum Likelihood optimization failed to converge. Check mle_retvals\n",
      "  \"Check mle_retvals\", ConvergenceWarning)\n"
     ]
    }
   ],
   "source": [
    "#Create Logit regression model for conveted and country, and us CA and old page as baseline\n",
    "logict = sm.Logit(df3['converted'], df3[['Intercept','new_page','UK','US','CA']]).fit()\n",
    "\n",
    "print(logict.params)\n",
    "print(\"=======================================\")\n",
    "print(logict.summary())"
   ]
  },
  {
   "cell_type": "markdown",
   "metadata": {},
   "source": [
    "h. Though you have now looked at the individual factors of country and page on conversion, we would now like to look at an interaction between page and country to see if there significant effects on conversion.  Create the necessary additional columns, and fit the new model.  \n",
    "\n",
    "Provide the summary results, and your conclusions based on the results."
   ]
  },
  {
   "cell_type": "code",
   "execution_count": 41,
   "metadata": {},
   "outputs": [
    {
     "name": "stdout",
     "output_type": "stream",
     "text": [
      "Optimization terminated successfully.\n",
      "         Current function value: 0.366109\n",
      "         Iterations 12\n",
      "Intercept     -1.495676\n",
      "new_page       7.147189\n",
      "UK_new_page   -7.136354\n",
      "US_new_page   -7.214637\n",
      "CA_new_page   -7.167752\n",
      "UK            -0.496546\n",
      "US            -0.508329\n",
      "CA            -0.490802\n",
      "dtype: float64\n"
     ]
    }
   ],
   "source": [
    "#Create a new intereacton variable between new page and country US and UK\n",
    "df3['UK_new_page'] = df3['new_page']* df3['UK']\n",
    "df3['US_new_page'] = df3['new_page']* df3['US']\n",
    "df3['CA_new_page'] = df3['new_page']* df3['CA']\n",
    "\n",
    "\n",
    "\n",
    "#Create logistic regression for the intereaction variable between new page and country using dummy variable\n",
    "logit = sm.Logit(df3['converted'], df3[['Intercept','new_page','UK_new_page','US_new_page','CA_new_page','UK','US','CA']]).fit()\n",
    "\n",
    "print(logit.params)\n",
    "print(logit.summary())\n"
   ]
  },
  {
   "cell_type": "markdown",
   "metadata": {},
   "source": [
    "After we made our logistic regression we found that the Coffecient of new page for US ,UK and CA   are differnece more that new page  \n",
    "\n",
    "The current function value: 0.0.366109\n",
    "\n",
    "The intercept's p-value is  statistically significant to make convert rate because it has values less than 0.05 but Z score is not big  so we can represent it as   significant to predict the rate of converstion\n",
    "\n",
    "so the country which user lived in is not important when we focus on the rate of page which user see it \n",
    "\n",
    "\n",
    " "
   ]
  },
  {
   "cell_type": "markdown",
   "metadata": {},
   "source": [
    "<a id='conclusions'></a>\n",
    "## Finishing Up\n",
    "\n",
    "> Congratulations!  You have reached the end of the A/B Test Results project!  You should be very proud of all you have accomplished!\n",
    "\n",
    "> **Tip**: Once you are satisfied with your work here, check over your report to make sure that it is satisfies all the areas of the rubric (found on the project submission page at the end of the lesson). You should also probably remove all of the \"Tips\" like this one so that the presentation is as polished as possible.\n",
    "\n",
    "\n",
    "## Directions to Submit\n",
    "\n",
    "> Before you submit your project, you need to create a .html or .pdf version of this notebook in the workspace here. To do that, run the code cell below. If it worked correctly, you should get a return code of 0, and you should see the generated .html file in the workspace directory (click on the orange Jupyter icon in the upper left).\n",
    "\n",
    "> Alternatively, you can download this report as .html via the **File** > **Download as** submenu, and then manually upload it into the workspace directory by clicking on the orange Jupyter icon in the upper left, then using the Upload button.\n",
    "\n",
    "> Once you've done this, you can submit your project by clicking on the \"Submit Project\" button in the lower right here. This will create and submit a zip file with this .ipynb doc and the .html or .pdf version you created. Congratulations!"
   ]
  },
  {
   "cell_type": "code",
   "execution_count": 42,
   "metadata": {},
   "outputs": [
    {
     "data": {
      "text/plain": [
       "0"
      ]
     },
     "execution_count": 42,
     "metadata": {},
     "output_type": "execute_result"
    }
   ],
   "source": [
    "from subprocess import call\n",
    "call(['python', '-m', 'nbconvert', 'Analyze_ab_test_results_notebook.ipynb'])"
   ]
  },
  {
   "cell_type": "code",
   "execution_count": null,
   "metadata": {},
   "outputs": [],
   "source": []
  }
 ],
 "metadata": {
  "kernelspec": {
   "display_name": "Python 3",
   "language": "python",
   "name": "python3"
  },
  "language_info": {
   "codemirror_mode": {
    "name": "ipython",
    "version": 3
   },
   "file_extension": ".py",
   "mimetype": "text/x-python",
   "name": "python",
   "nbconvert_exporter": "python",
   "pygments_lexer": "ipython3",
   "version": "3.6.3"
  }
 },
 "nbformat": 4,
 "nbformat_minor": 2
}
